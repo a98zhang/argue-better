{
 "cells": [
  {
   "cell_type": "code",
   "execution_count": 1,
   "metadata": {},
   "outputs": [
    {
     "name": "stderr",
     "output_type": "stream",
     "text": [
      "/Users/az/opt/anaconda3/envs/argue-better/lib/python3.8/site-packages/tqdm/auto.py:22: TqdmWarning: IProgress not found. Please update jupyter and ipywidgets. See https://ipywidgets.readthedocs.io/en/stable/user_install.html\n",
      "  from .autonotebook import tqdm as notebook_tqdm\n"
     ]
    }
   ],
   "source": [
    "import pandas as pd\n",
    "import numpy as np\n",
    "from matplotlib import pyplot as plt\n",
    "import seaborn as sns\n",
    "import os\n",
    "from pathlib import Path\n",
    "from sentence_transformers import SentenceTransformer, util\n"
   ]
  },
  {
   "cell_type": "code",
   "execution_count": 2,
   "metadata": {},
   "outputs": [
    {
     "data": {
      "text/plain": [
       "<Axes: xlabel='WA', ylabel='Density'>"
      ]
     },
     "execution_count": 2,
     "metadata": {},
     "output_type": "execute_result"
    },
    {
     "data": {
      "image/png": "[encoded data removed]",
      "text/plain": [
       "<Figure size 640x480 with 1 Axes>"
      ]
     },
     "metadata": {},
     "output_type": "display_data"
    }
   ],
   "source": [
    "ibm = pd.read_csv(\"data/IBM_Debater_(R)_arg_quality_rank_30k/arg_quality_rank_30k.csv\")\n",
    "ibm = ibm[['argument', 'topic', 'WA', 'MACE-P']]\n",
    "sns.kdeplot(ibm['WA'])"
   ]
  },
  {
   "cell_type": "code",
   "execution_count": 43,
   "metadata": {},
   "outputs": [],
   "source": [
    "\n",
    "anns = dict()\n",
    "essays = dict()\n",
    "path = 'data/essays_all/'\n",
    "\n",
    "Files = Path(path).glob('*.ann')\n",
    "for file in Files:\n",
    "        idx = int(str(file)[-7:-4])\n",
    "        anns[idx] = pd.read_csv(file, sep='\\t', header=None)\n",
    "\n",
    "Files = Path(path).glob('*.txt')\n",
    "for file in Files:\n",
    "        with open(file, 'r') as f:\n",
    "                idx = int(str(file)[-7:-4])\n",
    "                essays[idx] = f.read()\n"
   ]
  },
  {
   "cell_type": "code",
   "execution_count": 4,
   "metadata": {},
   "outputs": [
    {
     "name": "stderr",
     "output_type": "stream",
     "text": [
      "Downloading (…)a8e1d/.gitattributes: 100%|██████████| 1.18k/1.18k [00:00<00:00, 163kB/s]\n",
      "Downloading (…)_Pooling/config.json: 100%|██████████| 190/190 [00:00<00:00, 28.7kB/s]\n",
      "Downloading (…)b20bca8e1d/README.md: 100%|██████████| 10.6k/10.6k [00:00<00:00, 1.99MB/s]\n",
      "Downloading (…)0bca8e1d/config.json: 100%|██████████| 571/571 [00:00<00:00, 133kB/s]\n",
      "Downloading (…)ce_transformers.json: 100%|██████████| 116/116 [00:00<00:00, 24.6kB/s]\n",
      "Downloading (…)e1d/data_config.json: 100%|██████████| 39.3k/39.3k [00:00<00:00, 547kB/s]\n",
      "Downloading (…)\"pytorch_model.bin\";: 100%|██████████| 438M/438M [00:37<00:00, 11.6MB/s] \n",
      "Downloading (…)nce_bert_config.json: 100%|██████████| 53.0/53.0 [00:00<00:00, 11.7kB/s]\n",
      "Downloading (…)cial_tokens_map.json: 100%|██████████| 239/239 [00:00<00:00, 51.1kB/s]\n",
      "Downloading (…)a8e1d/tokenizer.json: 100%|██████████| 466k/466k [00:00<00:00, 870kB/s]\n",
      "Downloading (…)okenizer_config.json: 100%|██████████| 363/363 [00:00<00:00, 86.4kB/s]\n",
      "Downloading (…)8e1d/train_script.py: 100%|██████████| 13.1k/13.1k [00:00<00:00, 2.57MB/s]\n",
      "Downloading (…)b20bca8e1d/vocab.txt: 100%|██████████| 232k/232k [00:00<00:00, 723kB/s]\n",
      "Downloading (…)bca8e1d/modules.json: 100%|██████████| 349/349 [00:00<00:00, 73.6kB/s]\n"
     ]
    }
   ],
   "source": [
    "import numpy as np\n",
    "from sentence_transformers import SentenceTransformer, util\n",
    "\n",
    "def get_sentence_similarity_matrix(sentences):\n",
    "    model = SentenceTransformer('sentence-transformers/all-mpnet-base-v2')\n",
    "    sentence_embeddings = model.encode(sentences, convert_to_tensor=True)\n",
    "    cos_similarities = util.cos_sim(sentence_embeddings, sentence_embeddings)\n",
    "\n",
    "    sim_matrix = cos_similarities.cpu().numpy()\n",
    "    return sim_matrix\n",
    "\n",
    "similarity_matrix = get_sentence_similarity_matrix(ibm['argument'].tolist())"
   ]
  },
  {
   "cell_type": "code",
   "execution_count": 8,
   "metadata": {},
   "outputs": [],
   "source": [
    "with open('similarity_matrix.npy', 'wb') as f:\n",
    "    np.save(f, similarity_matrix)"
   ]
  },
  {
   "cell_type": "code",
   "execution_count": 3,
   "metadata": {},
   "outputs": [],
   "source": [
    "with open('similarity_matrix.npy', 'rb') as f:\n",
    "    similarity_matrix = np.load(f)"
   ]
  },
  {
   "cell_type": "code",
   "execution_count": 4,
   "metadata": {},
   "outputs": [],
   "source": [
    "topic_df_dict = dict()\n",
    "for topic in ibm['topic'].unique():\n",
    "    topic_df_dict[topic] = ibm[ibm.topic == topic].drop('topic', axis=1)"
   ]
  },
  {
   "attachments": {},
   "cell_type": "markdown",
   "metadata": {},
   "source": [
    "Construct the dataset:\n",
    "1. under the same category\n",
    "2. find the most similar ones\n",
    "3. retrieve the one with the highest scores (WA + MACE-P)"
   ]
  },
  {
   "cell_type": "code",
   "execution_count": 9,
   "metadata": {},
   "outputs": [
    {
     "ename": "SyntaxError",
     "evalue": "invalid syntax (438768609.py, line 13)",
     "output_type": "error",
     "traceback": [
      "\u001b[0;36m  Cell \u001b[0;32mIn[9], line 13\u001b[0;36m\u001b[0m\n\u001b[0;31m    top_args.append(top_arg.iloc[0]['argument'])\u001b[0m\n\u001b[0m    ^\u001b[0m\n\u001b[0;31mSyntaxError\u001b[0m\u001b[0;31m:\u001b[0m invalid syntax\n"
     ]
    }
   ],
   "source": [
    "def get_best_example(df, similarity_matrix, num_args=100):\n",
    "    top_args = []\n",
    "    for idx, row in df.iterrows():\n",
    "        df = topic_df_dict[row['topic']]\n",
    "        cos_similarities = similarity_matrix[idx][df.index.to_list()]\n",
    "        df = df.reset_index(drop=True)\n",
    "        most_similar_indices = np.argsort(-1*cos_similarities)[:num_args]\n",
    "        most_similar_arguments = pd.DataFrame([df.iloc[i] \n",
    "                                               for i in most_similar_indices])\n",
    "        top_arg = most_similar_arguments.sort_values(by=['WA', 'MACE-P'], \n",
    "                                                        ascending= [False, False]\n",
    "                                                        )\n",
    "\n",
    "        top_args.append(top_arg.iloc[0]['argument'])\n",
    "        \n",
    "    return top_args\n",
    "#ibm.apply(lambda row: find_closest_better(row), axis=1)\n",
    "best_examples = get_best_example(ibm, similarity_matrix)\n"
   ]
  },
  {
   "cell_type": "code",
   "execution_count": 92,
   "metadata": {},
   "outputs": [
    {
     "data": {
      "text/plain": [
       "['marriage is an outdated tradition that does not account for our changing society.',\n",
       " 'a multi party system would ensure more people get their viewpoint taken into account.',\n",
       " 'zero-tolerance policy in schools teaches students responsibility and respect and should be adopted']"
      ]
     },
     "execution_count": 92,
     "metadata": {},
     "output_type": "execute_result"
    }
   ],
   "source": [
    "best_examples"
   ]
  },
  {
   "cell_type": "code",
   "execution_count": 21,
   "metadata": {},
   "outputs": [],
   "source": [
    "a = topic_df_dict['We should abandon marriage'].index.to_list()"
   ]
  },
  {
   "cell_type": "code",
   "execution_count": null,
   "metadata": {},
   "outputs": [],
   "source": []
  }
 ],
 "metadata": {
  "kernelspec": {
   "display_name": "argue-better",
   "language": "python",
   "name": "python3"
  },
  "language_info": {
   "codemirror_mode": {
    "name": "ipython",
    "version": 3
   },
   "file_extension": ".py",
   "mimetype": "text/x-python",
   "name": "python",
   "nbconvert_exporter": "python",
   "pygments_lexer": "ipython3",
   "version": "3.8.16"
  },
  "orig_nbformat": 4,
  "vscode": {
   "interpreter": {
    "hash": "031a7c6f06a8ea7e6a009985da8b01c348431fe31e00a296f90908cd20cd9940"
   }
  }
 },
 "nbformat": 4,
 "nbformat_minor": 2
}
